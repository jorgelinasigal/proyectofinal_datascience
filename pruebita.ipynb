{
 "cells": [
  {
   "cell_type": "code",
   "execution_count": 1,
   "id": "1499a1d3",
   "metadata": {},
   "outputs": [
    {
     "name": "stdout",
     "output_type": "stream",
     "text": [
      "  Periodo                Industria   Genero  Valor\n",
      "0  ene-96  agricultura y ganaderia  Mujeres  380.2\n",
      "1  feb-96  agricultura y ganaderia  Mujeres  406.8\n",
      "2  mar-96  agricultura y ganaderia  Mujeres  399.7\n",
      "3  abr-96  agricultura y ganaderia  Mujeres  375.9\n",
      "4  may-96  agricultura y ganaderia  Mujeres  395.6\n"
     ]
    }
   ],
   "source": [
    "import pandas as pd\n",
    "# Leer archivo sin encabezado\n",
    "df_raw = pd.read_csv(\"Remuneraciones (1).csv\", header=None)\n",
    "\n",
    "# Encabezados\n",
    "industria_header = df_raw.iloc[0]\n",
    "genero_header = df_raw.iloc[1]\n",
    "df_data = df_raw.iloc[2:].reset_index(drop=True)\n",
    "\n",
    "# Crear MultiIndex\n",
    "df_data.columns = pd.MultiIndex.from_arrays([industria_header, genero_header])\n",
    "\n",
    "# Aplanar columnas: 'A_Mujeres', 'B_Varones', etc. excepto el período\n",
    "df_data.columns = [\n",
    "    \"Periodo\" if i == 0 else f\"{col[0]}_{col[1]}\" \n",
    "    for i, col in enumerate(df_data.columns)\n",
    "]\n",
    "\n",
    "# Melt usando columnas simples\n",
    "df_long = df_data.melt(id_vars='Periodo', var_name='Industria_Genero', value_name='Valor')\n",
    "\n",
    "# Separar en dos columnas\n",
    "df_long[['Industria', 'Genero']] = df_long['Industria_Genero'].str.split('_', expand=True)\n",
    "\n",
    "# Orden final\n",
    "df_long = df_long[['Periodo', 'Industria', 'Genero', 'Valor']]\n",
    "\n",
    "# Mostrar\n",
    "print(df_long.head())\n",
    "\n",
    "# Exportarlo a excel\n",
    "df_long.to_csv(\"Rem2.csv\", index=False)\n"
   ]
  },
  {
   "cell_type": "code",
   "execution_count": 2,
   "id": "abd3ea66",
   "metadata": {},
   "outputs": [],
   "source": [
    "remu = pd.read_csv('Rem2.csv')\n",
    "remu['Periodo_fecha'] = pd.to_datetime(remu['Periodo'], format='%b-%y', errors= 'coerce')\n",
    "remu_sorted = remu.sort_values(by='Periodo_fecha')\n",
    "remu_sorted.to_csv('Rem2_orden.csv', index=False)"
   ]
  }
 ],
 "metadata": {
  "kernelspec": {
   "display_name": "Python 3",
   "language": "python",
   "name": "python3"
  },
  "language_info": {
   "codemirror_mode": {
    "name": "ipython",
    "version": 3
   },
   "file_extension": ".py",
   "mimetype": "text/x-python",
   "name": "python",
   "nbconvert_exporter": "python",
   "pygments_lexer": "ipython3",
   "version": "3.13.3"
  }
 },
 "nbformat": 4,
 "nbformat_minor": 5
}
